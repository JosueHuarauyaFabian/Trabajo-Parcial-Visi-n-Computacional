{
  "nbformat": 4,
  "nbformat_minor": 0,
  "metadata": {
    "colab": {
      "provenance": [],
      "gpuType": "T4",
      "include_colab_link": true
    },
    "kernelspec": {
      "name": "python3",
      "display_name": "Python 3"
    },
    "language_info": {
      "name": "python"
    },
    "accelerator": "GPU"
  },
  "cells": [
    {
      "cell_type": "markdown",
      "metadata": {
        "id": "view-in-github",
        "colab_type": "text"
      },
      "source": [
        "<a href=\"https://colab.research.google.com/github/JosueHuarauyaFabian/Trabajo-Parcial-Visi-n-Computacional/blob/main/Clasificacio%CC%81n_de_categorias_Dibujar_un_Objeto.ipynb\" target=\"_parent\"><img src=\"https://colab.research.google.com/assets/colab-badge.svg\" alt=\"Open In Colab\"/></a>"
      ]
    },
    {
      "cell_type": "markdown",
      "source": [
        "###Montar Google Drive\n"
      ],
      "metadata": {
        "id": "qvsWYJHLvhOA"
      }
    },
    {
      "cell_type": "code",
      "source": [
        "from google.colab import drive\n",
        "drive.mount('/content/drive')"
      ],
      "metadata": {
        "colab": {
          "base_uri": "https://localhost:8080/"
        },
        "id": "ChNLY29xvh-p",
        "outputId": "b1a401a0-e43c-4448-90de-8db3861146e8"
      },
      "execution_count": null,
      "outputs": [
        {
          "output_type": "stream",
          "name": "stdout",
          "text": [
            "Mounted at /content/drive\n"
          ]
        }
      ]
    },
    {
      "cell_type": "code",
      "metadata": {
        "id": "f2pbBqnSLYc8",
        "colab": {
          "base_uri": "https://localhost:8080/"
        },
        "outputId": "03bfb66f-cc11-48ca-c718-2372e28c342e"
      },
      "source": [
        "!nvidia-smi"
      ],
      "execution_count": null,
      "outputs": [
        {
          "output_type": "stream",
          "name": "stdout",
          "text": [
            "Mon Jun  3 04:33:42 2024       \n",
            "+---------------------------------------------------------------------------------------+\n",
            "| NVIDIA-SMI 535.104.05             Driver Version: 535.104.05   CUDA Version: 12.2     |\n",
            "|-----------------------------------------+----------------------+----------------------+\n",
            "| GPU  Name                 Persistence-M | Bus-Id        Disp.A | Volatile Uncorr. ECC |\n",
            "| Fan  Temp   Perf          Pwr:Usage/Cap |         Memory-Usage | GPU-Util  Compute M. |\n",
            "|                                         |                      |               MIG M. |\n",
            "|=========================================+======================+======================|\n",
            "|   0  Tesla T4                       Off | 00000000:00:04.0 Off |                    0 |\n",
            "| N/A   45C    P8               9W /  70W |      0MiB / 15360MiB |      0%      Default |\n",
            "|                                         |                      |                  N/A |\n",
            "+-----------------------------------------+----------------------+----------------------+\n",
            "                                                                                         \n",
            "+---------------------------------------------------------------------------------------+\n",
            "| Processes:                                                                            |\n",
            "|  GPU   GI   CI        PID   Type   Process name                            GPU Memory |\n",
            "|        ID   ID                                                             Usage      |\n",
            "|=======================================================================================|\n",
            "|  No running processes found                                                           |\n",
            "+---------------------------------------------------------------------------------------+\n"
          ]
        }
      ]
    },
    {
      "cell_type": "markdown",
      "source": [
        "###Definir las carpetas de Google Drive"
      ],
      "metadata": {
        "id": "ebQw_0q0wSjh"
      }
    },
    {
      "cell_type": "code",
      "source": [
        "import os\n",
        "import numpy as np\n",
        "from PIL import Image\n",
        "from skimage.transform import resize\n",
        "import zipfile\n",
        "\n",
        "# Definir IDs de las carpetas\n",
        "DRIVE_FOLDER_IDS = {\n",
        "    \"Animales\": \"1LxicGpnR4mwnvb6dDYLqKvFic3ZBCfGg\",\n",
        "    \"Frutas\": \"1yt7IDii7CGhMEBWmZvUnWp0cG2omBAVQ\",\n",
        "    \"Vehículos\": \"1L-SKX7ccMZqFXFFVQxjuYEZ7iZB0m22l\",\n",
        "    \"Formas Geométricas\": \"1KnbPkxwrSl06X9zBsZcmXcUA46Z-wSW2\",\n",
        "    \"Objetos de la Casa\": \"1qHefVFZ5sm0Vgr7VkUnndW1S1SshaF0W\"\n",
        "}\n",
        "\n",
        "# Crear estructura de carpetas locales para almacenar los datos descargados\n",
        "base_dir = '/content/drive/MyDrive/Imagenes_de_dibuja_un_Objeto/'\n",
        "if not os.path.exists(base_dir):\n",
        "    os.makedirs(base_dir)\n",
        "\n",
        "for category, folder_id in DRIVE_FOLDER_IDS.items():\n",
        "    category_dir = os.path.join(base_dir, category)\n",
        "    if not os.path.exists(category_dir):\n",
        "        os.makedirs(category_dir)"
      ],
      "metadata": {
        "id": "JR8arf8QwHwx"
      },
      "execution_count": null,
      "outputs": []
    },
    {
      "cell_type": "markdown",
      "source": [
        "###Descargar imágenes en un archivo zip desde Google Drive (usando PyDrive)"
      ],
      "metadata": {
        "id": "TIvs5aPMyJbJ"
      }
    },
    {
      "cell_type": "code",
      "source": [
        "!pip install -U -q PyDrive\n",
        "from pydrive.auth import GoogleAuth\n",
        "from pydrive.drive import GoogleDrive\n",
        "from google.colab import auth\n",
        "from oauth2client.client import GoogleCredentials\n",
        "\n",
        "# Autenticarse y crear instancia de PyDrive\n",
        "auth.authenticate_user()\n",
        "gauth = GoogleAuth()\n",
        "gauth.credentials = GoogleCredentials.get_application_default()\n",
        "drive = GoogleDrive(gauth)"
      ],
      "metadata": {
        "colab": {
          "base_uri": "https://localhost:8080/"
        },
        "id": "lZc-qotsyLvq",
        "outputId": "7072be4e-2d62-4484-fc64-1973f5e137f1"
      },
      "execution_count": null,
      "outputs": [
        {
          "output_type": "stream",
          "name": "stderr",
          "text": [
            "WARNING:root:pydrive is deprecated and no longer maintained. We recommend that you migrate your projects to pydrive2, the maintained fork of pydrive\n"
          ]
        }
      ]
    },
    {
      "cell_type": "code",
      "source": [
        "def download_images_from_drive(folder_id, category):\n",
        "    file_list = drive.ListFile({'q': f\"'{folder_id}' in parents and trashed=false\"}).GetList()\n",
        "    category_zip_path = os.path.join(base_dir, f\"{category}.zip\")\n",
        "    with zipfile.ZipFile(category_zip_path, 'w') as zipf:\n",
        "        for file in file_list:\n",
        "            file_path = os.path.join(base_dir, category, file['title'])\n",
        "            file.GetContentFile(file_path)\n",
        "            zipf.write(file_path, file['title'])\n",
        "            os.remove(file_path)\n",
        "    print(f\"{category} images downloaded and zipped at {category_zip_path}\")\n",
        "\n",
        "for category, folder_id in DRIVE_FOLDER_IDS.items():\n",
        "    download_images_from_drive(folder_id, category)"
      ],
      "metadata": {
        "colab": {
          "base_uri": "https://localhost:8080/"
        },
        "id": "rsVxuq_uyRTe",
        "outputId": "36a2d590-e713-4cea-d120-5f899053bd9b"
      },
      "execution_count": null,
      "outputs": [
        {
          "output_type": "stream",
          "name": "stderr",
          "text": [
            "/usr/lib/python3.10/zipfile.py:1519: UserWarning: Duplicate name: 'Animales_Serpiente_1717106136.png'\n",
            "  return self._open_to_write(zinfo, force_zip64=force_zip64)\n",
            "/usr/lib/python3.10/zipfile.py:1519: UserWarning: Duplicate name: 'Animales.png'\n",
            "  return self._open_to_write(zinfo, force_zip64=force_zip64)\n",
            "/usr/lib/python3.10/zipfile.py:1519: UserWarning: Duplicate name: 'Animales_Oveja_1717367624.png'\n",
            "  return self._open_to_write(zinfo, force_zip64=force_zip64)\n",
            "/usr/lib/python3.10/zipfile.py:1519: UserWarning: Duplicate name: 'Animales_Zancudo_1717366107.png'\n",
            "  return self._open_to_write(zinfo, force_zip64=force_zip64)\n",
            "/usr/lib/python3.10/zipfile.py:1519: UserWarning: Duplicate name: 'Animales_pez.png'\n",
            "  return self._open_to_write(zinfo, force_zip64=force_zip64)\n",
            "/usr/lib/python3.10/zipfile.py:1519: UserWarning: Duplicate name: 'Animales_Perro_1716842788.png'\n",
            "  return self._open_to_write(zinfo, force_zip64=force_zip64)\n",
            "/usr/lib/python3.10/zipfile.py:1519: UserWarning: Duplicate name: 'Animales_Oruga_1717365424.png'\n",
            "  return self._open_to_write(zinfo, force_zip64=force_zip64)\n",
            "/usr/lib/python3.10/zipfile.py:1519: UserWarning: Duplicate name: 'Animales_Perro_1717340537.png'\n",
            "  return self._open_to_write(zinfo, force_zip64=force_zip64)\n",
            "/usr/lib/python3.10/zipfile.py:1519: UserWarning: Duplicate name: 'Animales_Mariquita_1717366846.png'\n",
            "  return self._open_to_write(zinfo, force_zip64=force_zip64)\n",
            "/usr/lib/python3.10/zipfile.py:1519: UserWarning: Duplicate name: 'Animales_Mariposa_1717366665.png'\n",
            "  return self._open_to_write(zinfo, force_zip64=force_zip64)\n",
            "/usr/lib/python3.10/zipfile.py:1519: UserWarning: Duplicate name: 'Animales_Rana_1717105532.png'\n",
            "  return self._open_to_write(zinfo, force_zip64=force_zip64)\n",
            "/usr/lib/python3.10/zipfile.py:1519: UserWarning: Duplicate name: 'Animales_Pollito_1717367744.png'\n",
            "  return self._open_to_write(zinfo, force_zip64=force_zip64)\n",
            "/usr/lib/python3.10/zipfile.py:1519: UserWarning: Duplicate name: 'Animales_Perro_1717313057.png'\n",
            "  return self._open_to_write(zinfo, force_zip64=force_zip64)\n",
            "/usr/lib/python3.10/zipfile.py:1519: UserWarning: Duplicate name: 'Animales_Pato_1717367984.png'\n",
            "  return self._open_to_write(zinfo, force_zip64=force_zip64)\n",
            "/usr/lib/python3.10/zipfile.py:1519: UserWarning: Duplicate name: 'Animales_Mosca_1717366250.png'\n",
            "  return self._open_to_write(zinfo, force_zip64=force_zip64)\n",
            "/usr/lib/python3.10/zipfile.py:1519: UserWarning: Duplicate name: 'Animales_Mariposa_1717339616.png'\n",
            "  return self._open_to_write(zinfo, force_zip64=force_zip64)\n",
            "/usr/lib/python3.10/zipfile.py:1519: UserWarning: Duplicate name: 'Animales_Medusa_1717265331.png'\n",
            "  return self._open_to_write(zinfo, force_zip64=force_zip64)\n",
            "/usr/lib/python3.10/zipfile.py:1519: UserWarning: Duplicate name: 'Animales_León_1717281367.png'\n",
            "  return self._open_to_write(zinfo, force_zip64=force_zip64)\n",
            "/usr/lib/python3.10/zipfile.py:1519: UserWarning: Duplicate name: 'Animales_Jirafa_1717280689.png'\n",
            "  return self._open_to_write(zinfo, force_zip64=force_zip64)\n",
            "/usr/lib/python3.10/zipfile.py:1519: UserWarning: Duplicate name: 'Animales_Hipopótamo_1717288644.png'\n",
            "  return self._open_to_write(zinfo, force_zip64=force_zip64)\n",
            "/usr/lib/python3.10/zipfile.py:1519: UserWarning: Duplicate name: 'Animales_Cangrejo_1717085792.png'\n",
            "  return self._open_to_write(zinfo, force_zip64=force_zip64)\n",
            "/usr/lib/python3.10/zipfile.py:1519: UserWarning: Duplicate name: 'Animales_Gato_1717363134.png'\n",
            "  return self._open_to_write(zinfo, force_zip64=force_zip64)\n",
            "/usr/lib/python3.10/zipfile.py:1519: UserWarning: Duplicate name: 'Animales__1717081948.png'\n",
            "  return self._open_to_write(zinfo, force_zip64=force_zip64)\n",
            "/usr/lib/python3.10/zipfile.py:1519: UserWarning: Duplicate name: 'Animales_Conejo_1717263883.png'\n",
            "  return self._open_to_write(zinfo, force_zip64=force_zip64)\n",
            "/usr/lib/python3.10/zipfile.py:1519: UserWarning: Duplicate name: 'Animales_Jirafa_1716841620.png'\n",
            "  return self._open_to_write(zinfo, force_zip64=force_zip64)\n",
            "/usr/lib/python3.10/zipfile.py:1519: UserWarning: Duplicate name: 'Animales_gato'\n",
            "  return self._open_to_write(zinfo, force_zip64=force_zip64)\n",
            "/usr/lib/python3.10/zipfile.py:1519: UserWarning: Duplicate name: 'Animales_cerdo.png'\n",
            "  return self._open_to_write(zinfo, force_zip64=force_zip64)\n",
            "/usr/lib/python3.10/zipfile.py:1519: UserWarning: Duplicate name: 'Animales_Araña_1717340281.png'\n",
            "  return self._open_to_write(zinfo, force_zip64=force_zip64)\n",
            "/usr/lib/python3.10/zipfile.py:1519: UserWarning: Duplicate name: 'Animales_caracol.png'\n",
            "  return self._open_to_write(zinfo, force_zip64=force_zip64)\n"
          ]
        },
        {
          "output_type": "stream",
          "name": "stdout",
          "text": [
            "Animales images downloaded and zipped at /content/drive/MyDrive/Imagenes_de_dibuja_un_Objeto/Animales.zip\n"
          ]
        },
        {
          "output_type": "stream",
          "name": "stderr",
          "text": [
            "/usr/lib/python3.10/zipfile.py:1519: UserWarning: Duplicate name: 'Frutas.png'\n",
            "  return self._open_to_write(zinfo, force_zip64=force_zip64)\n"
          ]
        },
        {
          "output_type": "stream",
          "name": "stdout",
          "text": [
            "Frutas images downloaded and zipped at /content/drive/MyDrive/Imagenes_de_dibuja_un_Objeto/Frutas.zip\n",
            "Vehículos images downloaded and zipped at /content/drive/MyDrive/Imagenes_de_dibuja_un_Objeto/Vehículos.zip\n"
          ]
        },
        {
          "output_type": "stream",
          "name": "stderr",
          "text": [
            "/usr/lib/python3.10/zipfile.py:1519: UserWarning: Duplicate name: 'Formas Geométricas.png'\n",
            "  return self._open_to_write(zinfo, force_zip64=force_zip64)\n"
          ]
        },
        {
          "output_type": "stream",
          "name": "stdout",
          "text": [
            "Formas Geométricas images downloaded and zipped at /content/drive/MyDrive/Imagenes_de_dibuja_un_Objeto/Formas Geométricas.zip\n"
          ]
        },
        {
          "output_type": "stream",
          "name": "stderr",
          "text": [
            "/usr/lib/python3.10/zipfile.py:1519: UserWarning: Duplicate name: 'Objetos de la Casa_Taza.png'\n",
            "  return self._open_to_write(zinfo, force_zip64=force_zip64)\n",
            "/usr/lib/python3.10/zipfile.py:1519: UserWarning: Duplicate name: 'Objetos de la Casa_Sofá.png'\n",
            "  return self._open_to_write(zinfo, force_zip64=force_zip64)\n",
            "/usr/lib/python3.10/zipfile.py:1519: UserWarning: Duplicate name: 'Objetos de la Casa_Maceta.png'\n",
            "  return self._open_to_write(zinfo, force_zip64=force_zip64)\n",
            "/usr/lib/python3.10/zipfile.py:1519: UserWarning: Duplicate name: 'Objetos de la Casa_Armario.png'\n",
            "  return self._open_to_write(zinfo, force_zip64=force_zip64)\n",
            "/usr/lib/python3.10/zipfile.py:1519: UserWarning: Duplicate name: 'Objetos de la Casa_Cuchillo.png'\n",
            "  return self._open_to_write(zinfo, force_zip64=force_zip64)\n",
            "/usr/lib/python3.10/zipfile.py:1519: UserWarning: Duplicate name: 'Objetos de la Casa_Jarra.png'\n",
            "  return self._open_to_write(zinfo, force_zip64=force_zip64)\n",
            "/usr/lib/python3.10/zipfile.py:1519: UserWarning: Duplicate name: 'Objetos de la Casa_Lavadora.png'\n",
            "  return self._open_to_write(zinfo, force_zip64=force_zip64)\n",
            "/usr/lib/python3.10/zipfile.py:1519: UserWarning: Duplicate name: 'Objetos de la Casa_Silla.png'\n",
            "  return self._open_to_write(zinfo, force_zip64=force_zip64)\n",
            "/usr/lib/python3.10/zipfile.py:1519: UserWarning: Duplicate name: 'Objetos de la Casa_Lampara.png'\n",
            "  return self._open_to_write(zinfo, force_zip64=force_zip64)\n",
            "/usr/lib/python3.10/zipfile.py:1519: UserWarning: Duplicate name: 'Objetos de la Casa_Batidora.png'\n",
            "  return self._open_to_write(zinfo, force_zip64=force_zip64)\n",
            "/usr/lib/python3.10/zipfile.py:1519: UserWarning: Duplicate name: 'Objetos de la Casa_peluche.png'\n",
            "  return self._open_to_write(zinfo, force_zip64=force_zip64)\n",
            "/usr/lib/python3.10/zipfile.py:1519: UserWarning: Duplicate name: 'Objetos de la Casa_sofa.png'\n",
            "  return self._open_to_write(zinfo, force_zip64=force_zip64)\n",
            "/usr/lib/python3.10/zipfile.py:1519: UserWarning: Duplicate name: 'Objetos de la Casa_sarten.png'\n",
            "  return self._open_to_write(zinfo, force_zip64=force_zip64)\n",
            "/usr/lib/python3.10/zipfile.py:1519: UserWarning: Duplicate name: 'Objetos de la Casa_tijera.png'\n",
            "  return self._open_to_write(zinfo, force_zip64=force_zip64)\n",
            "/usr/lib/python3.10/zipfile.py:1519: UserWarning: Duplicate name: 'Objetos de la Casa_basurero.png'\n",
            "  return self._open_to_write(zinfo, force_zip64=force_zip64)\n",
            "/usr/lib/python3.10/zipfile.py:1519: UserWarning: Duplicate name: 'Objetos de la Casa_lampara.png'\n",
            "  return self._open_to_write(zinfo, force_zip64=force_zip64)\n",
            "/usr/lib/python3.10/zipfile.py:1519: UserWarning: Duplicate name: 'Objetos de la Casa_espejo.png'\n",
            "  return self._open_to_write(zinfo, force_zip64=force_zip64)\n",
            "/usr/lib/python3.10/zipfile.py:1519: UserWarning: Duplicate name: 'Objetos de la Casa_cartera.png'\n",
            "  return self._open_to_write(zinfo, force_zip64=force_zip64)\n",
            "/usr/lib/python3.10/zipfile.py:1519: UserWarning: Duplicate name: 'Objetos de la Casa_pelota.png'\n",
            "  return self._open_to_write(zinfo, force_zip64=force_zip64)\n",
            "/usr/lib/python3.10/zipfile.py:1519: UserWarning: Duplicate name: 'Objetos de la Casa_tetera.png'\n",
            "  return self._open_to_write(zinfo, force_zip64=force_zip64)\n",
            "/usr/lib/python3.10/zipfile.py:1519: UserWarning: Duplicate name: 'Objetos de la Casa_cuadro.png'\n",
            "  return self._open_to_write(zinfo, force_zip64=force_zip64)\n",
            "/usr/lib/python3.10/zipfile.py:1519: UserWarning: Duplicate name: 'Objetos de la Casa_refrigeradora.png'\n",
            "  return self._open_to_write(zinfo, force_zip64=force_zip64)\n",
            "/usr/lib/python3.10/zipfile.py:1519: UserWarning: Duplicate name: 'Objetos de la Casa_cama.png'\n",
            "  return self._open_to_write(zinfo, force_zip64=force_zip64)\n",
            "/usr/lib/python3.10/zipfile.py:1519: UserWarning: Duplicate name: 'Objetos de la Casa_jarra.png'\n",
            "  return self._open_to_write(zinfo, force_zip64=force_zip64)\n"
          ]
        },
        {
          "output_type": "stream",
          "name": "stdout",
          "text": [
            "Objetos de la Casa images downloaded and zipped at /content/drive/MyDrive/Imagenes_de_dibuja_un_Objeto/Objetos de la Casa.zip\n"
          ]
        }
      ]
    },
    {
      "cell_type": "markdown",
      "source": [
        "###Descomprimir las imágenes"
      ],
      "metadata": {
        "id": "XxWbu23c5VDw"
      }
    },
    {
      "cell_type": "code",
      "source": [
        "import numpy as np\n",
        "from PIL import Image\n",
        "from skimage.transform import resize\n",
        "\n",
        "# Descomprimir los archivos zip\n",
        "for category in DRIVE_FOLDER_IDS.keys():\n",
        "    category_zip_path = os.path.join(base_dir, f\"{category}.zip\")\n",
        "    with zipfile.ZipFile(category_zip_path, 'r') as zipf:\n",
        "        zipf.extractall(os.path.join(base_dir, category))"
      ],
      "metadata": {
        "id": "QU6vndaV5SLz"
      },
      "execution_count": null,
      "outputs": []
    },
    {
      "cell_type": "markdown",
      "source": [
        "###Contar las imágenes y equilibrar las categorías"
      ],
      "metadata": {
        "id": "tmXHjTTeVNeA"
      }
    },
    {
      "cell_type": "code",
      "source": [
        "import random\n",
        "from collections import Counter\n",
        "\n",
        "# Contar las imágenes en cada categoría\n",
        "image_counts = {}\n",
        "for category in DRIVE_FOLDER_IDS.keys():\n",
        "    category_dir = os.path.join(base_dir, category)\n",
        "    image_counts[category] = len(os.listdir(category_dir))\n",
        "\n",
        "print(\"Cantidad de imágenes en cada categoría:\", image_counts)\n",
        "\n",
        "# Determinar la cantidad mínima de imágenes\n",
        "min_images = min(image_counts.values())\n",
        "print(\"Cantidad mínima de imágenes por categoría:\", min_images)"
      ],
      "metadata": {
        "colab": {
          "base_uri": "https://localhost:8080/"
        },
        "id": "VnKz2EAEVS1N",
        "outputId": "134263c0-bfa5-46ec-fb4b-eeb9dad2c904"
      },
      "execution_count": null,
      "outputs": [
        {
          "output_type": "stream",
          "name": "stdout",
          "text": [
            "Cantidad de imágenes en cada categoría: {'Animales': 908, 'Frutas': 666, 'Vehículos': 1283, 'Formas Geométricas': 296, 'Objetos de la Casa': 1744}\n",
            "Cantidad mínima de imágenes por categoría: 296\n"
          ]
        }
      ]
    },
    {
      "cell_type": "markdown",
      "metadata": {
        "id": "L3cG-u68k4NB"
      },
      "source": [
        "### Preparar datos"
      ]
    },
    {
      "cell_type": "code",
      "metadata": {
        "id": "DOzikEiN9niE"
      },
      "source": [
        "# Preparar los datos\n",
        "X = []\n",
        "y = []\n",
        "size = (28, 28)  # Cambia esto al tamaño deseado\n",
        "label_map = {label: idx for idx, label in enumerate(DRIVE_FOLDER_IDS.keys())}"
      ],
      "execution_count": null,
      "outputs": []
    },
    {
      "cell_type": "code",
      "source": [
        "for category in DRIVE_FOLDER_IDS.keys():\n",
        "    category_dir = os.path.join(base_dir, category)\n",
        "    images = os.listdir(category_dir)\n",
        "\n",
        "    # Submuestrear para que cada categoría tenga la misma cantidad de imágenes\n",
        "    if len(images) > min_images:\n",
        "        images = random.sample(images, min_images)\n",
        "\n",
        "    for img_name in images:\n",
        "        img_path = os.path.join(category_dir, img_name)\n",
        "        img = Image.open(img_path).convert('L')  # Convertir a escala de grises\n",
        "        img = img.resize(size)\n",
        "        img = np.array(img) / 255.0  # Normalizar\n",
        "        X.append(img)\n",
        "        y.append(label_map[category])"
      ],
      "metadata": {
        "id": "rd4w8yhHycid"
      },
      "execution_count": null,
      "outputs": []
    },
    {
      "cell_type": "code",
      "source": [
        "X = np.array(X)\n",
        "y = np.array(y)"
      ],
      "metadata": {
        "id": "aH3KYql8ylaZ"
      },
      "execution_count": null,
      "outputs": []
    },
    {
      "cell_type": "code",
      "source": [
        "# Asegurarse de que las dimensiones sean correctas\n",
        "if X.ndim == 3:\n",
        "    X = X[..., None]\n",
        "\n",
        "print(X.shape, y.shape)"
      ],
      "metadata": {
        "colab": {
          "base_uri": "https://localhost:8080/"
        },
        "id": "mJlHqC1Syp62",
        "outputId": "b2176ae9-2642-4a44-fd5f-bc14679c7ef2"
      },
      "execution_count": null,
      "outputs": [
        {
          "output_type": "stream",
          "name": "stdout",
          "text": [
            "(1480, 28, 28, 1) (1480,)\n"
          ]
        }
      ]
    },
    {
      "cell_type": "markdown",
      "metadata": {
        "id": "VnygyOx_kVgV"
      },
      "source": [
        "### Dividir los datos en entrenamiento y prueba"
      ]
    },
    {
      "cell_type": "code",
      "metadata": {
        "id": "npamkfojIxjF"
      },
      "source": [
        "from sklearn.model_selection import train_test_split\n",
        "\n",
        "X_train, X_test, y_train, y_test = train_test_split(X, y, test_size=0.20, random_state=42, stratify=y)"
      ],
      "execution_count": null,
      "outputs": []
    },
    {
      "cell_type": "code",
      "metadata": {
        "id": "naSOHz06XiAL",
        "colab": {
          "base_uri": "https://localhost:8080/"
        },
        "outputId": "587054f5-adbe-45ae-b768-c60541203bb0"
      },
      "source": [
        "print(X_train.shape, X_test.shape)"
      ],
      "execution_count": null,
      "outputs": [
        {
          "output_type": "stream",
          "name": "stdout",
          "text": [
            "(1184, 28, 28, 1) (296, 28, 28, 1)\n"
          ]
        }
      ]
    },
    {
      "cell_type": "code",
      "source": [
        "# Verificar el equilibrio de las etiquetas en el conjunto de entrenamiento y prueba\n",
        "train_counts = Counter(y_train)\n",
        "test_counts = Counter(y_test)\n",
        "\n",
        "print(\"Distribución de etiquetas en el conjunto de entrenamiento:\", train_counts)\n",
        "print(\"Distribución de etiquetas en el conjunto de prueba:\", test_counts)"
      ],
      "metadata": {
        "colab": {
          "base_uri": "https://localhost:8080/"
        },
        "id": "eHtpXIF5V2rY",
        "outputId": "3ce9cf77-9087-41b3-b0f5-12709c8373fe"
      },
      "execution_count": null,
      "outputs": [
        {
          "output_type": "stream",
          "name": "stdout",
          "text": [
            "Distribución de etiquetas en el conjunto de entrenamiento: Counter({0: 237, 1: 237, 2: 237, 4: 237, 3: 236})\n",
            "Distribución de etiquetas en el conjunto de prueba: Counter({3: 60, 1: 59, 2: 59, 0: 59, 4: 59})\n"
          ]
        }
      ]
    },
    {
      "cell_type": "markdown",
      "metadata": {
        "id": "QNFock6RrosL"
      },
      "source": [
        "## Definimos un modelo"
      ]
    },
    {
      "cell_type": "code",
      "metadata": {
        "id": "pfe9qQgProsM",
        "colab": {
          "base_uri": "https://localhost:8080/"
        },
        "outputId": "ef221fc3-8f71-4d33-dd8f-65adc46346ff"
      },
      "source": [
        "from tensorflow.keras.models import Sequential\n",
        "from tensorflow.keras.layers import Dense, Conv2D, MaxPool2D, Flatten\n",
        "\n",
        "bs = 16\n",
        "lr = 0.0005\n",
        "\n",
        "#Espacio de busqueda\n",
        "#Cantidad Filtros: 32, 64, 128, 256\n",
        "#Tamaño del Filtro: 3, 5, 7\n",
        "#Activaciones: 'relu', 'sigmoid', 'tanh'\n",
        "#Unidades Dense: 128, 256, 100..\n",
        "#lr: 0.001, 0.0001, 0.00001, etc\n",
        "#bs: 8, 16, 32...\n",
        "\n",
        "model = Sequential([Conv2D(32, 3, activation='relu', input_shape=(*size,1), padding='same'),\n",
        "                    MaxPool2D(),\n",
        "                    Conv2D(64, 3, activation='relu', padding='same'),\n",
        "                    MaxPool2D(),\n",
        "                    Conv2D(128, 3, activation='relu', padding='same'),\n",
        "                    MaxPool2D(),\n",
        "                    Flatten(),\n",
        "                    Dense(128, activation='relu'), #modificar!\n",
        "                    Dense(5, activation='softmax')]) #no modificar\n",
        "\n",
        "model.compile(optimizer='SGD', loss='sparse_categorical_crossentropy', metrics=['accuracy'])\n",
        "# La pérdida 'sparse_categorical_crossentropy' realiza automaticamente la conversión\n",
        "# del target a one-hot encoding.\n",
        "\n",
        "model.summary()"
      ],
      "execution_count": null,
      "outputs": [
        {
          "output_type": "stream",
          "name": "stdout",
          "text": [
            "Model: \"sequential_16\"\n",
            "_________________________________________________________________\n",
            " Layer (type)                Output Shape              Param #   \n",
            "=================================================================\n",
            " conv2d_53 (Conv2D)          (None, 28, 28, 32)        320       \n",
            "                                                                 \n",
            " max_pooling2d_53 (MaxPooli  (None, 14, 14, 32)        0         \n",
            " ng2D)                                                           \n",
            "                                                                 \n",
            " conv2d_54 (Conv2D)          (None, 14, 14, 64)        18496     \n",
            "                                                                 \n",
            " max_pooling2d_54 (MaxPooli  (None, 7, 7, 64)          0         \n",
            " ng2D)                                                           \n",
            "                                                                 \n",
            " conv2d_55 (Conv2D)          (None, 7, 7, 128)         73856     \n",
            "                                                                 \n",
            " max_pooling2d_55 (MaxPooli  (None, 3, 3, 128)         0         \n",
            " ng2D)                                                           \n",
            "                                                                 \n",
            " flatten_16 (Flatten)        (None, 1152)              0         \n",
            "                                                                 \n",
            " dense_32 (Dense)            (None, 128)               147584    \n",
            "                                                                 \n",
            " dense_33 (Dense)            (None, 5)                 645       \n",
            "                                                                 \n",
            "=================================================================\n",
            "Total params: 240901 (941.02 KB)\n",
            "Trainable params: 240901 (941.02 KB)\n",
            "Non-trainable params: 0 (0.00 Byte)\n",
            "_________________________________________________________________\n"
          ]
        }
      ]
    },
    {
      "cell_type": "markdown",
      "metadata": {
        "id": "ViSNqBdCrosX"
      },
      "source": [
        "## Entrenamiento"
      ]
    },
    {
      "cell_type": "code",
      "metadata": {
        "scrolled": true,
        "id": "CLPujN72rosZ",
        "colab": {
          "base_uri": "https://localhost:8080/"
        },
        "outputId": "a251fa9e-654e-444b-ceea-210b42b02101"
      },
      "source": [
        "log = model.fit(X_train, y_train, batch_size=bs, epochs=100, validation_data=(X_test, y_test))"
      ],
      "execution_count": null,
      "outputs": [
        {
          "output_type": "stream",
          "name": "stdout",
          "text": [
            "Epoch 1/100\n",
            "74/74 [==============================] - 1s 7ms/step - loss: 1.6052 - accuracy: 0.2416 - val_loss: 1.6020 - val_accuracy: 0.3784\n",
            "Epoch 2/100\n",
            "74/74 [==============================] - 0s 5ms/step - loss: 1.6009 - accuracy: 0.2998 - val_loss: 1.5987 - val_accuracy: 0.4493\n",
            "Epoch 3/100\n",
            "74/74 [==============================] - 0s 5ms/step - loss: 1.5977 - accuracy: 0.4350 - val_loss: 1.5952 - val_accuracy: 0.4155\n",
            "Epoch 4/100\n",
            "74/74 [==============================] - 0s 4ms/step - loss: 1.5937 - accuracy: 0.4578 - val_loss: 1.5910 - val_accuracy: 0.4189\n",
            "Epoch 5/100\n",
            "74/74 [==============================] - 0s 5ms/step - loss: 1.5891 - accuracy: 0.4502 - val_loss: 1.5855 - val_accuracy: 0.5203\n",
            "Epoch 6/100\n",
            "74/74 [==============================] - 0s 5ms/step - loss: 1.5820 - accuracy: 0.5177 - val_loss: 1.5786 - val_accuracy: 0.5236\n",
            "Epoch 7/100\n",
            "74/74 [==============================] - 0s 5ms/step - loss: 1.5734 - accuracy: 0.5296 - val_loss: 1.5663 - val_accuracy: 0.5338\n",
            "Epoch 8/100\n",
            "74/74 [==============================] - 0s 5ms/step - loss: 1.5597 - accuracy: 0.5279 - val_loss: 1.5523 - val_accuracy: 0.5203\n",
            "Epoch 9/100\n",
            "74/74 [==============================] - 0s 5ms/step - loss: 1.5392 - accuracy: 0.5346 - val_loss: 1.5235 - val_accuracy: 0.5439\n",
            "Epoch 10/100\n",
            "74/74 [==============================] - 0s 5ms/step - loss: 1.5080 - accuracy: 0.5389 - val_loss: 1.4884 - val_accuracy: 0.5439\n",
            "Epoch 11/100\n",
            "74/74 [==============================] - 0s 5ms/step - loss: 1.4647 - accuracy: 0.5372 - val_loss: 1.4319 - val_accuracy: 0.5372\n",
            "Epoch 12/100\n",
            "74/74 [==============================] - 0s 5ms/step - loss: 1.4046 - accuracy: 0.5262 - val_loss: 1.3652 - val_accuracy: 0.5338\n",
            "Epoch 13/100\n",
            "74/74 [==============================] - 0s 5ms/step - loss: 1.3393 - accuracy: 0.5220 - val_loss: 1.2916 - val_accuracy: 0.5338\n",
            "Epoch 14/100\n",
            "74/74 [==============================] - 0s 6ms/step - loss: 1.2682 - accuracy: 0.5372 - val_loss: 1.2635 - val_accuracy: 0.5676\n",
            "Epoch 15/100\n",
            "74/74 [==============================] - 0s 6ms/step - loss: 1.2065 - accuracy: 0.5321 - val_loss: 1.1783 - val_accuracy: 0.5541\n",
            "Epoch 16/100\n",
            "74/74 [==============================] - 1s 7ms/step - loss: 1.1644 - accuracy: 0.5507 - val_loss: 1.1537 - val_accuracy: 0.5709\n",
            "Epoch 17/100\n",
            "74/74 [==============================] - 1s 8ms/step - loss: 1.1197 - accuracy: 0.5718 - val_loss: 1.1055 - val_accuracy: 0.5811\n",
            "Epoch 18/100\n",
            "74/74 [==============================] - 1s 8ms/step - loss: 1.0929 - accuracy: 0.5684 - val_loss: 1.0798 - val_accuracy: 0.5743\n",
            "Epoch 19/100\n",
            "74/74 [==============================] - 1s 8ms/step - loss: 1.0656 - accuracy: 0.5861 - val_loss: 1.0707 - val_accuracy: 0.5777\n",
            "Epoch 20/100\n",
            "74/74 [==============================] - 1s 7ms/step - loss: 1.0477 - accuracy: 0.5743 - val_loss: 1.0552 - val_accuracy: 0.5878\n",
            "Epoch 21/100\n",
            "74/74 [==============================] - 1s 7ms/step - loss: 1.0388 - accuracy: 0.5946 - val_loss: 1.0492 - val_accuracy: 0.5811\n",
            "Epoch 22/100\n",
            "74/74 [==============================] - 0s 5ms/step - loss: 1.0236 - accuracy: 0.5946 - val_loss: 1.0553 - val_accuracy: 0.5743\n",
            "Epoch 23/100\n",
            "74/74 [==============================] - 0s 5ms/step - loss: 1.0206 - accuracy: 0.5870 - val_loss: 1.0476 - val_accuracy: 0.5709\n",
            "Epoch 24/100\n",
            "74/74 [==============================] - 0s 5ms/step - loss: 1.0138 - accuracy: 0.6073 - val_loss: 1.0501 - val_accuracy: 0.5676\n",
            "Epoch 25/100\n",
            "74/74 [==============================] - 0s 5ms/step - loss: 1.0027 - accuracy: 0.6022 - val_loss: 1.0584 - val_accuracy: 0.5574\n",
            "Epoch 26/100\n",
            "74/74 [==============================] - 0s 5ms/step - loss: 1.0003 - accuracy: 0.6123 - val_loss: 1.0436 - val_accuracy: 0.5676\n",
            "Epoch 27/100\n",
            "74/74 [==============================] - 0s 5ms/step - loss: 1.0012 - accuracy: 0.6014 - val_loss: 1.0459 - val_accuracy: 0.5743\n",
            "Epoch 28/100\n",
            "74/74 [==============================] - 0s 5ms/step - loss: 0.9872 - accuracy: 0.6250 - val_loss: 1.0493 - val_accuracy: 0.5845\n",
            "Epoch 29/100\n",
            "74/74 [==============================] - 0s 5ms/step - loss: 0.9813 - accuracy: 0.6166 - val_loss: 1.0274 - val_accuracy: 0.5811\n",
            "Epoch 30/100\n",
            "74/74 [==============================] - 0s 5ms/step - loss: 0.9844 - accuracy: 0.6250 - val_loss: 1.0160 - val_accuracy: 0.6047\n",
            "Epoch 31/100\n",
            "74/74 [==============================] - 0s 5ms/step - loss: 0.9742 - accuracy: 0.6233 - val_loss: 1.0120 - val_accuracy: 0.6081\n",
            "Epoch 32/100\n",
            "74/74 [==============================] - 0s 5ms/step - loss: 0.9666 - accuracy: 0.6334 - val_loss: 1.0552 - val_accuracy: 0.5845\n",
            "Epoch 33/100\n",
            "74/74 [==============================] - 0s 5ms/step - loss: 0.9700 - accuracy: 0.6318 - val_loss: 1.0072 - val_accuracy: 0.6047\n",
            "Epoch 34/100\n",
            "74/74 [==============================] - 0s 5ms/step - loss: 0.9631 - accuracy: 0.6377 - val_loss: 1.0170 - val_accuracy: 0.5980\n",
            "Epoch 35/100\n",
            "74/74 [==============================] - 0s 4ms/step - loss: 0.9555 - accuracy: 0.6318 - val_loss: 1.0052 - val_accuracy: 0.5946\n",
            "Epoch 36/100\n",
            "74/74 [==============================] - 0s 5ms/step - loss: 0.9472 - accuracy: 0.6503 - val_loss: 0.9951 - val_accuracy: 0.6081\n",
            "Epoch 37/100\n",
            "74/74 [==============================] - 0s 5ms/step - loss: 0.9408 - accuracy: 0.6461 - val_loss: 1.0114 - val_accuracy: 0.5912\n",
            "Epoch 38/100\n",
            "74/74 [==============================] - 0s 5ms/step - loss: 0.9353 - accuracy: 0.6579 - val_loss: 0.9842 - val_accuracy: 0.6182\n",
            "Epoch 39/100\n",
            "74/74 [==============================] - 0s 5ms/step - loss: 0.9336 - accuracy: 0.6503 - val_loss: 0.9790 - val_accuracy: 0.6182\n",
            "Epoch 40/100\n",
            "74/74 [==============================] - 0s 5ms/step - loss: 0.9213 - accuracy: 0.6402 - val_loss: 0.9823 - val_accuracy: 0.6149\n",
            "Epoch 41/100\n",
            "74/74 [==============================] - 0s 5ms/step - loss: 0.9112 - accuracy: 0.6655 - val_loss: 0.9767 - val_accuracy: 0.6115\n",
            "Epoch 42/100\n",
            "74/74 [==============================] - 0s 5ms/step - loss: 0.9120 - accuracy: 0.6706 - val_loss: 0.9684 - val_accuracy: 0.6149\n",
            "Epoch 43/100\n",
            "74/74 [==============================] - 0s 5ms/step - loss: 0.9135 - accuracy: 0.6588 - val_loss: 0.9780 - val_accuracy: 0.6115\n",
            "Epoch 44/100\n",
            "74/74 [==============================] - 0s 5ms/step - loss: 0.9091 - accuracy: 0.6588 - val_loss: 0.9630 - val_accuracy: 0.6216\n",
            "Epoch 45/100\n",
            "74/74 [==============================] - 0s 5ms/step - loss: 0.9101 - accuracy: 0.6630 - val_loss: 0.9653 - val_accuracy: 0.6149\n",
            "Epoch 46/100\n",
            "74/74 [==============================] - 0s 5ms/step - loss: 0.8952 - accuracy: 0.6706 - val_loss: 0.9646 - val_accuracy: 0.6284\n",
            "Epoch 47/100\n",
            "74/74 [==============================] - 0s 5ms/step - loss: 0.8861 - accuracy: 0.6715 - val_loss: 0.9785 - val_accuracy: 0.6216\n",
            "Epoch 48/100\n",
            "74/74 [==============================] - 0s 5ms/step - loss: 0.8842 - accuracy: 0.6740 - val_loss: 0.9526 - val_accuracy: 0.6182\n",
            "Epoch 49/100\n",
            "74/74 [==============================] - 1s 7ms/step - loss: 0.8782 - accuracy: 0.6689 - val_loss: 0.9705 - val_accuracy: 0.6318\n",
            "Epoch 50/100\n",
            "74/74 [==============================] - 0s 7ms/step - loss: 0.8806 - accuracy: 0.6605 - val_loss: 0.9570 - val_accuracy: 0.6115\n",
            "Epoch 51/100\n",
            "74/74 [==============================] - 0s 7ms/step - loss: 0.8787 - accuracy: 0.6740 - val_loss: 0.9431 - val_accuracy: 0.6385\n",
            "Epoch 52/100\n",
            "74/74 [==============================] - 0s 7ms/step - loss: 0.8652 - accuracy: 0.6833 - val_loss: 0.9378 - val_accuracy: 0.6318\n",
            "Epoch 53/100\n",
            "74/74 [==============================] - 1s 7ms/step - loss: 0.8695 - accuracy: 0.6858 - val_loss: 0.9412 - val_accuracy: 0.6318\n",
            "Epoch 54/100\n",
            "74/74 [==============================] - 0s 7ms/step - loss: 0.8578 - accuracy: 0.6774 - val_loss: 0.9546 - val_accuracy: 0.6250\n",
            "Epoch 55/100\n",
            "74/74 [==============================] - 0s 7ms/step - loss: 0.8557 - accuracy: 0.6807 - val_loss: 0.9331 - val_accuracy: 0.6419\n",
            "Epoch 56/100\n",
            "74/74 [==============================] - 1s 8ms/step - loss: 0.8478 - accuracy: 0.6867 - val_loss: 0.9357 - val_accuracy: 0.6453\n",
            "Epoch 57/100\n",
            "74/74 [==============================] - 1s 7ms/step - loss: 0.8458 - accuracy: 0.6875 - val_loss: 0.9683 - val_accuracy: 0.6351\n",
            "Epoch 58/100\n",
            "74/74 [==============================] - 0s 5ms/step - loss: 0.8481 - accuracy: 0.6858 - val_loss: 0.9292 - val_accuracy: 0.6520\n",
            "Epoch 59/100\n",
            "74/74 [==============================] - 0s 5ms/step - loss: 0.8443 - accuracy: 0.6867 - val_loss: 0.9266 - val_accuracy: 0.6554\n",
            "Epoch 60/100\n",
            "74/74 [==============================] - 0s 5ms/step - loss: 0.8310 - accuracy: 0.6917 - val_loss: 0.9377 - val_accuracy: 0.6486\n",
            "Epoch 61/100\n",
            "74/74 [==============================] - 0s 5ms/step - loss: 0.8408 - accuracy: 0.6900 - val_loss: 0.9331 - val_accuracy: 0.6351\n",
            "Epoch 62/100\n",
            "74/74 [==============================] - 0s 5ms/step - loss: 0.8262 - accuracy: 0.6934 - val_loss: 0.9326 - val_accuracy: 0.6554\n",
            "Epoch 63/100\n",
            "74/74 [==============================] - 0s 5ms/step - loss: 0.8302 - accuracy: 0.6926 - val_loss: 0.9291 - val_accuracy: 0.6385\n",
            "Epoch 64/100\n",
            "74/74 [==============================] - 0s 5ms/step - loss: 0.8121 - accuracy: 0.7019 - val_loss: 0.9537 - val_accuracy: 0.6351\n",
            "Epoch 65/100\n",
            "74/74 [==============================] - 0s 5ms/step - loss: 0.8155 - accuracy: 0.6934 - val_loss: 0.9601 - val_accuracy: 0.6284\n",
            "Epoch 66/100\n",
            "74/74 [==============================] - 0s 5ms/step - loss: 0.8169 - accuracy: 0.7061 - val_loss: 0.9106 - val_accuracy: 0.6486\n",
            "Epoch 67/100\n",
            "74/74 [==============================] - 0s 5ms/step - loss: 0.8056 - accuracy: 0.6926 - val_loss: 0.9279 - val_accuracy: 0.6453\n",
            "Epoch 68/100\n",
            "74/74 [==============================] - 0s 5ms/step - loss: 0.8028 - accuracy: 0.7120 - val_loss: 0.9326 - val_accuracy: 0.6385\n",
            "Epoch 69/100\n",
            "74/74 [==============================] - 0s 5ms/step - loss: 0.8038 - accuracy: 0.7052 - val_loss: 0.9493 - val_accuracy: 0.6588\n",
            "Epoch 70/100\n",
            "74/74 [==============================] - 0s 5ms/step - loss: 0.8035 - accuracy: 0.7035 - val_loss: 0.9124 - val_accuracy: 0.6453\n",
            "Epoch 71/100\n",
            "74/74 [==============================] - 0s 5ms/step - loss: 0.7955 - accuracy: 0.7171 - val_loss: 0.9331 - val_accuracy: 0.6622\n",
            "Epoch 72/100\n",
            "74/74 [==============================] - 0s 5ms/step - loss: 0.7958 - accuracy: 0.7086 - val_loss: 0.9484 - val_accuracy: 0.6385\n",
            "Epoch 73/100\n",
            "74/74 [==============================] - 0s 5ms/step - loss: 0.7913 - accuracy: 0.7086 - val_loss: 0.9039 - val_accuracy: 0.6486\n",
            "Epoch 74/100\n",
            "74/74 [==============================] - 0s 5ms/step - loss: 0.7905 - accuracy: 0.7171 - val_loss: 0.9119 - val_accuracy: 0.6588\n",
            "Epoch 75/100\n",
            "74/74 [==============================] - 0s 5ms/step - loss: 0.7890 - accuracy: 0.7145 - val_loss: 0.9302 - val_accuracy: 0.6453\n",
            "Epoch 76/100\n",
            "74/74 [==============================] - 0s 5ms/step - loss: 0.7844 - accuracy: 0.7179 - val_loss: 0.8950 - val_accuracy: 0.6622\n",
            "Epoch 77/100\n",
            "74/74 [==============================] - 0s 5ms/step - loss: 0.7756 - accuracy: 0.7247 - val_loss: 0.9174 - val_accuracy: 0.6723\n",
            "Epoch 78/100\n",
            "74/74 [==============================] - 0s 5ms/step - loss: 0.7786 - accuracy: 0.7078 - val_loss: 0.8913 - val_accuracy: 0.6689\n",
            "Epoch 79/100\n",
            "74/74 [==============================] - 1s 7ms/step - loss: 0.7823 - accuracy: 0.7179 - val_loss: 0.9157 - val_accuracy: 0.6520\n",
            "Epoch 80/100\n",
            "74/74 [==============================] - 1s 8ms/step - loss: 0.7656 - accuracy: 0.7162 - val_loss: 0.8944 - val_accuracy: 0.6588\n",
            "Epoch 81/100\n",
            "74/74 [==============================] - 0s 5ms/step - loss: 0.7724 - accuracy: 0.7145 - val_loss: 0.8957 - val_accuracy: 0.6588\n",
            "Epoch 82/100\n",
            "74/74 [==============================] - 0s 4ms/step - loss: 0.7731 - accuracy: 0.7204 - val_loss: 0.9133 - val_accuracy: 0.6486\n",
            "Epoch 83/100\n",
            "74/74 [==============================] - 0s 5ms/step - loss: 0.7659 - accuracy: 0.7280 - val_loss: 0.8960 - val_accuracy: 0.6723\n",
            "Epoch 84/100\n",
            "74/74 [==============================] - 1s 8ms/step - loss: 0.7614 - accuracy: 0.7221 - val_loss: 0.8908 - val_accuracy: 0.6655\n",
            "Epoch 85/100\n",
            "74/74 [==============================] - 1s 8ms/step - loss: 0.7604 - accuracy: 0.7272 - val_loss: 0.9519 - val_accuracy: 0.6588\n",
            "Epoch 86/100\n",
            "74/74 [==============================] - 1s 7ms/step - loss: 0.7603 - accuracy: 0.7297 - val_loss: 0.8827 - val_accuracy: 0.6655\n",
            "Epoch 87/100\n",
            "74/74 [==============================] - 0s 7ms/step - loss: 0.7500 - accuracy: 0.7314 - val_loss: 0.8765 - val_accuracy: 0.6689\n",
            "Epoch 88/100\n",
            "74/74 [==============================] - 1s 7ms/step - loss: 0.7545 - accuracy: 0.7340 - val_loss: 0.8891 - val_accuracy: 0.6723\n",
            "Epoch 89/100\n",
            "74/74 [==============================] - 1s 9ms/step - loss: 0.7425 - accuracy: 0.7424 - val_loss: 0.8951 - val_accuracy: 0.6554\n",
            "Epoch 90/100\n",
            "74/74 [==============================] - 1s 7ms/step - loss: 0.7388 - accuracy: 0.7399 - val_loss: 0.9050 - val_accuracy: 0.6757\n",
            "Epoch 91/100\n",
            "74/74 [==============================] - 0s 4ms/step - loss: 0.7425 - accuracy: 0.7373 - val_loss: 0.9327 - val_accuracy: 0.6385\n",
            "Epoch 92/100\n",
            "74/74 [==============================] - 0s 5ms/step - loss: 0.7315 - accuracy: 0.7458 - val_loss: 0.8850 - val_accuracy: 0.6791\n",
            "Epoch 93/100\n",
            "74/74 [==============================] - 0s 5ms/step - loss: 0.7303 - accuracy: 0.7390 - val_loss: 0.9131 - val_accuracy: 0.6655\n",
            "Epoch 94/100\n",
            "74/74 [==============================] - 0s 5ms/step - loss: 0.7292 - accuracy: 0.7449 - val_loss: 0.9090 - val_accuracy: 0.6622\n",
            "Epoch 95/100\n",
            "74/74 [==============================] - 0s 5ms/step - loss: 0.7306 - accuracy: 0.7449 - val_loss: 0.8655 - val_accuracy: 0.6757\n",
            "Epoch 96/100\n",
            "74/74 [==============================] - 0s 5ms/step - loss: 0.7187 - accuracy: 0.7458 - val_loss: 0.8847 - val_accuracy: 0.6757\n",
            "Epoch 97/100\n",
            "74/74 [==============================] - 0s 4ms/step - loss: 0.7187 - accuracy: 0.7407 - val_loss: 0.8887 - val_accuracy: 0.6757\n",
            "Epoch 98/100\n",
            "74/74 [==============================] - 0s 5ms/step - loss: 0.7161 - accuracy: 0.7449 - val_loss: 0.9150 - val_accuracy: 0.6554\n",
            "Epoch 99/100\n",
            "74/74 [==============================] - 0s 5ms/step - loss: 0.7079 - accuracy: 0.7483 - val_loss: 0.9291 - val_accuracy: 0.6554\n",
            "Epoch 100/100\n",
            "74/74 [==============================] - 0s 4ms/step - loss: 0.7142 - accuracy: 0.7593 - val_loss: 0.8669 - val_accuracy: 0.6757\n"
          ]
        }
      ]
    },
    {
      "cell_type": "markdown",
      "source": [
        "###Mostrar los resultados"
      ],
      "metadata": {
        "id": "MEwOb2q8aTvZ"
      }
    },
    {
      "cell_type": "code",
      "metadata": {
        "id": "3NVXu4Njrosb"
      },
      "source": [
        "def show_results(model, log):\n",
        "    loss, acc = model.evaluate(X_test, y_test, batch_size=512, verbose=False)\n",
        "    print(f'Loss     = {loss:.4f}')\n",
        "    print(f'Accuracy = {acc:.4f}')\n",
        "    val_loss = log.history['val_loss']\n",
        "    val_acc = log.history['val_accuracy']\n",
        "    fig, axes = plt.subplots(1, 2, figsize=(14,4))\n",
        "    ax1, ax2 = axes\n",
        "    ax1.plot(log.history['loss'], label='train')\n",
        "    ax1.plot(val_loss, label='test')\n",
        "    ax1.set_xlabel('epoch'); ax1.set_ylabel('loss')\n",
        "    ax2.plot(log.history['accuracy'], label='train')\n",
        "    ax2.plot(val_acc, label='test')\n",
        "    ax2.set_xlabel('epoch'); ax2.set_ylabel('acc')\n",
        "    for ax in axes: ax.legend()"
      ],
      "execution_count": null,
      "outputs": []
    },
    {
      "cell_type": "code",
      "metadata": {
        "id": "u2gq4oP4rose",
        "colab": {
          "base_uri": "https://localhost:8080/",
          "height": 366
        },
        "outputId": "38b37dbd-7bf3-40e4-8535-04c82958c882"
      },
      "source": [
        "import matplotlib.pyplot as plt\n",
        "show_results(model, log)"
      ],
      "execution_count": null,
      "outputs": [
        {
          "output_type": "stream",
          "name": "stdout",
          "text": [
            "Loss     = 0.8669\n",
            "Accuracy = 0.6757\n"
          ]
        },
        {
          "output_type": "display_data",
          "data": {
            "text/plain": [
              "<Figure size 1400x400 with 2 Axes>"
            ],
            "image/png": "[encoded data removed]"
          },
          "metadata": {}
        }
      ]
    },
    {
      "cell_type": "markdown",
      "metadata": {
        "id": "qNgZtFfylqyS"
      },
      "source": [
        "## Probando el modelo"
      ]
    },
    {
      "cell_type": "code",
      "metadata": {
        "id": "68Sohfl7g5BT",
        "colab": {
          "base_uri": "https://localhost:8080/",
          "height": 428
        },
        "outputId": "53fd73b9-f49d-477e-bfca-a22ad2931ad2"
      },
      "source": [
        "idx = np.random.choice(X_test.shape[0], 1)[0]\n",
        "im = X_test[idx]\n",
        "label = y_test[idx]\n",
        "plt.title('(test) id:{} val:{}'.format(idx, label ))\n",
        "plt.axis('off')\n",
        "plt.imshow(-im[:,:,0], cmap='gray')\n",
        "plt.show()"
      ],
      "execution_count": null,
      "outputs": [
        {
          "output_type": "display_data",
          "data": {
            "text/plain": [
              "<Figure size 640x480 with 1 Axes>"
            ],
            "image/png": "[encoded data removed]"
          },
          "metadata": {}
        }
      ]
    },
    {
      "cell_type": "markdown",
      "metadata": {
        "id": "v3W6WqMvmRP5"
      },
      "source": [
        "## Usando el modelo entrenado"
      ]
    },
    {
      "cell_type": "code",
      "metadata": {
        "id": "arNeSd_gmB2Y",
        "colab": {
          "base_uri": "https://localhost:8080/"
        },
        "outputId": "4a05eb65-2ec9-406f-fbb0-d74d8b68a461"
      },
      "source": [
        "salida = model.predict(im[None,:,:,:])[0]\n",
        "salida"
      ],
      "execution_count": null,
      "outputs": [
        {
          "output_type": "stream",
          "name": "stdout",
          "text": [
            "1/1 [==============================] - 0s 78ms/step\n"
          ]
        },
        {
          "output_type": "execute_result",
          "data": {
            "text/plain": [
              "array([2.5512180e-01, 2.2822426e-01, 6.7498453e-04, 1.5240456e-05,\n",
              "       5.1596367e-01], dtype=float32)"
            ]
          },
          "metadata": {},
          "execution_count": 127
        }
      ]
    },
    {
      "cell_type": "code",
      "metadata": {
        "id": "kxGGKcpIm7Ch",
        "colab": {
          "base_uri": "https://localhost:8080/",
          "height": 489
        },
        "outputId": "978741cd-ea03-4566-bdaa-32a57428754f"
      },
      "source": [
        "plt.figure()\n",
        "plt.title(f\"Predicción: {salida.argmax()} Label: {label}\")\n",
        "plt.ylabel(\"Probabilidad\")\n",
        "plt.xlabel(\"Categoría\")\n",
        "plt.ylim([0, 1])\n",
        "plt.bar(np.arange(5), salida)\n",
        "plt.plot()"
      ],
      "execution_count": null,
      "outputs": [
        {
          "output_type": "execute_result",
          "data": {
            "text/plain": [
              "[]"
            ]
          },
          "metadata": {},
          "execution_count": 128
        },
        {
          "output_type": "display_data",
          "data": {
            "text/plain": [
              "<Figure size 640x480 with 1 Axes>"
            ],
            "image/png": "[encoded data removed]"
          },
          "metadata": {}
        }
      ]
    },
    {
      "cell_type": "code",
      "metadata": {
        "id": "0yQxdb_8oFwZ"
      },
      "source": [],
      "execution_count": null,
      "outputs": []
    }
  ]
}